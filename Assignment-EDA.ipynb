{
 "cells": [
  {
   "cell_type": "markdown",
   "id": "7473108c",
   "metadata": {},
   "source": [
    "\n",
    "# Sales Data - Exploratory Data Analysis (EDA)\n",
    "\n",
    "## Dataset Information:\n",
    "This dataset contains sales data for various products across different regions over a period of time.  \n",
    "Columns in the dataset:  \n",
    "- **Date**: The date of the sales record  \n",
    "- **Product**: The type of product sold  \n",
    "- **Region**: The region where the product was sold  \n",
    "- **Price**: The price of a single unit of the product  \n",
    "- **Units_Sold**: The number of units sold  \n",
    "- **Total_Sales**: The total revenue generated (Price * Units_Sold)  \n",
    "\n",
    "We will perform EDA to analyze sales trends, distributions, and correlations.\n"
   ]
  },
  {
   "cell_type": "code",
   "execution_count": null,
   "id": "0b0c42cb",
   "metadata": {},
   "outputs": [],
   "source": [
    "\n",
    "import pandas as pd\n",
    "import numpy as np\n",
    "import matplotlib.pyplot as plt\n",
    "import seaborn as sns\n",
    "\n",
    "# Load dataset\n",
    "file_path = \"sales_data.csv\"\n",
    "df = pd.read_csv(file_path)\n",
    "\n",
    "# Convert Date column to datetime\n",
    "df['Date'] = pd.to_datetime(df['Date'])\n",
    "\n",
    "# Display first few rows\n",
    "df.head()\n"
   ]
  },
  {
   "cell_type": "code",
   "execution_count": null,
   "id": "7503b81f",
   "metadata": {},
   "outputs": [],
   "source": [
    "\n",
    "# Display dataset columns\n",
    "print(\"Columns in the dataset:\")\n",
    "print(df.columns.tolist())\n"
   ]
  },
  {
   "cell_type": "markdown",
   "id": "9da9bf07",
   "metadata": {},
   "source": [
    "## Data Summary and Missing Values"
   ]
  },
  {
   "cell_type": "code",
   "execution_count": null,
   "id": "5cf00bd4",
   "metadata": {},
   "outputs": [],
   "source": [
    "\n",
    "# Check dataset info\n",
    "df.info()\n",
    "\n",
    "# Check for missing values\n",
    "df.isnull().sum()\n"
   ]
  },
  {
   "cell_type": "markdown",
   "id": "61856aae",
   "metadata": {},
   "source": [
    "## Sales Trend Over Time"
   ]
  },
  {
   "cell_type": "code",
   "execution_count": null,
   "id": "cf906c3c",
   "metadata": {},
   "outputs": [],
   "source": [
    "\n",
    "# Plot sales over time\n",
    "plt.figure(figsize=(12,6))\n",
    "sns.lineplot(x=df['Date'], y=df['Total_Sales'], ci=None)\n",
    "plt.xlabel(\"Date\")\n",
    "plt.ylabel(\"Total Sales\")\n",
    "plt.title(\"Sales Trend Over Time\")\n",
    "plt.xticks(rotation=45)\n",
    "plt.show()\n"
   ]
  },
  {
   "cell_type": "markdown",
   "id": "638010c9",
   "metadata": {},
   "source": [
    "## Sales by Product Category"
   ]
  },
  {
   "cell_type": "code",
   "execution_count": null,
   "id": "f7106ba7",
   "metadata": {},
   "outputs": [],
   "source": [
    "\n",
    "# Sales by Product\n",
    "plt.figure(figsize=(10,5))\n",
    "sns.barplot(x=df['Product'], y=df['Total_Sales'], estimator=sum, ci=None)\n",
    "plt.xlabel(\"Product\")\n",
    "plt.ylabel(\"Total Sales\")\n",
    "plt.title(\"Total Sales by Product\")\n",
    "plt.xticks(rotation=45)\n",
    "plt.show()\n"
   ]
  },
  {
   "cell_type": "markdown",
   "id": "dd624848",
   "metadata": {},
   "source": [
    "## Sales Distribution by Region"
   ]
  },
  {
   "cell_type": "code",
   "execution_count": null,
   "id": "bae7eef0",
   "metadata": {},
   "outputs": [],
   "source": [
    "\n",
    "# Sales by Region\n",
    "plt.figure(figsize=(8,5))\n",
    "sns.boxplot(x=df['Region'], y=df['Total_Sales'])\n",
    "plt.xlabel(\"Region\")\n",
    "plt.ylabel(\"Total Sales\")\n",
    "plt.title(\"Sales Distribution by Region\")\n",
    "plt.show()\n"
   ]
  },
  {
   "cell_type": "markdown",
   "id": "05ee0bee",
   "metadata": {},
   "source": [
    "## Correlation Analysis"
   ]
  },
  {
   "cell_type": "code",
   "execution_count": null,
   "id": "5b673c55",
   "metadata": {},
   "outputs": [],
   "source": [
    "\n",
    "# Correlation heatmap\n",
    "plt.figure(figsize=(6,4))\n",
    "sns.heatmap(df[['Price', 'Units_Sold', 'Total_Sales']].corr(), annot=True, cmap=\"coolwarm\", fmt=\".2f\")\n",
    "plt.title(\"Feature Correlation\")\n",
    "plt.show()\n"
   ]
  }
 ],
 "metadata": {},
 "nbformat": 4,
 "nbformat_minor": 5
}