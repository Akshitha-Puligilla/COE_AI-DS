{
 "cells": [
  {
   "cell_type": "code",
   "execution_count": 1,
   "id": "7f215bc2",
   "metadata": {},
   "outputs": [],
   "source": [
    "#step1:importing the liberaries\n",
    "import numpy as np # For handling numerical data\n",
    "import pandas as pd\n",
    "import matplotlib.pyplot as plt# For data visualization\n",
    "import seaborn as sns\n",
    "from sklearn.linear_model import LinearRegression # For building the regression model\n",
    "from sklearn.model_selection import train_test_split \n",
    "from sklearn.metrics import mean_absolute_error,mean_squared_error,r2_score # For evaluating the model\n",
    "import statsmodels.api as sm  # For OLS (Ordinary Least Squares) Regression\n",
    "        \n"
   ]
  },
  {
   "cell_type": "code",
   "execution_count": 2,
   "id": "f4376031",
   "metadata": {},
   "outputs": [],
   "source": [
    "# Step 2: Define the dataset (Experience in years and corresponding Salary in $1000s)\n",
    "np.random.seed(42)  # Ensuring reproducibility of random noise\n",
    " \n",
    "X = np.array([1, 2, 3, 4, 5, 6, 7, 8, 9, 10]).reshape(-1, 1)  # Independent variable (Experience)\n",
    "true_salaries = np.array([30, 35, 40, 45, 50, 55, 60, 65, 70, 75])  # True salary values\n"
   ]
  },
  {
   "cell_type": "code",
   "execution_count": 3,
   "id": "f4ccbac8",
   "metadata": {},
   "outputs": [],
   "source": [
    "# Adding some random noise to salaries to reduce accuracy\n",
    "noise = np.random.normal(0, 5, size=true_salaries.shape)  # Adding Gaussian noise (mean=0, std=5)\n",
    "Y = true_salaries + noise  # Final dependent variable with noise"
   ]
  },
  {
   "cell_type": "code",
   "execution_count": 4,
   "id": "6efda9c9",
   "metadata": {},
   "outputs": [],
   "source": [
    "#step 3: create a linear regression model\n",
    "model=LinearRegression() #Initialize the model\n"
   ]
  },
  {
   "cell_type": "code",
   "execution_count": 6,
   "id": "e43517a7",
   "metadata": {},
   "outputs": [
    {
     "data": {
      "text/html": [
       "<style>#sk-container-id-1 {color: black;}#sk-container-id-1 pre{padding: 0;}#sk-container-id-1 div.sk-toggleable {background-color: white;}#sk-container-id-1 label.sk-toggleable__label {cursor: pointer;display: block;width: 100%;margin-bottom: 0;padding: 0.3em;box-sizing: border-box;text-align: center;}#sk-container-id-1 label.sk-toggleable__label-arrow:before {content: \"▸\";float: left;margin-right: 0.25em;color: #696969;}#sk-container-id-1 label.sk-toggleable__label-arrow:hover:before {color: black;}#sk-container-id-1 div.sk-estimator:hover label.sk-toggleable__label-arrow:before {color: black;}#sk-container-id-1 div.sk-toggleable__content {max-height: 0;max-width: 0;overflow: hidden;text-align: left;background-color: #f0f8ff;}#sk-container-id-1 div.sk-toggleable__content pre {margin: 0.2em;color: black;border-radius: 0.25em;background-color: #f0f8ff;}#sk-container-id-1 input.sk-toggleable__control:checked~div.sk-toggleable__content {max-height: 200px;max-width: 100%;overflow: auto;}#sk-container-id-1 input.sk-toggleable__control:checked~label.sk-toggleable__label-arrow:before {content: \"▾\";}#sk-container-id-1 div.sk-estimator input.sk-toggleable__control:checked~label.sk-toggleable__label {background-color: #d4ebff;}#sk-container-id-1 div.sk-label input.sk-toggleable__control:checked~label.sk-toggleable__label {background-color: #d4ebff;}#sk-container-id-1 input.sk-hidden--visually {border: 0;clip: rect(1px 1px 1px 1px);clip: rect(1px, 1px, 1px, 1px);height: 1px;margin: -1px;overflow: hidden;padding: 0;position: absolute;width: 1px;}#sk-container-id-1 div.sk-estimator {font-family: monospace;background-color: #f0f8ff;border: 1px dotted black;border-radius: 0.25em;box-sizing: border-box;margin-bottom: 0.5em;}#sk-container-id-1 div.sk-estimator:hover {background-color: #d4ebff;}#sk-container-id-1 div.sk-parallel-item::after {content: \"\";width: 100%;border-bottom: 1px solid gray;flex-grow: 1;}#sk-container-id-1 div.sk-label:hover label.sk-toggleable__label {background-color: #d4ebff;}#sk-container-id-1 div.sk-serial::before {content: \"\";position: absolute;border-left: 1px solid gray;box-sizing: border-box;top: 0;bottom: 0;left: 50%;z-index: 0;}#sk-container-id-1 div.sk-serial {display: flex;flex-direction: column;align-items: center;background-color: white;padding-right: 0.2em;padding-left: 0.2em;position: relative;}#sk-container-id-1 div.sk-item {position: relative;z-index: 1;}#sk-container-id-1 div.sk-parallel {display: flex;align-items: stretch;justify-content: center;background-color: white;position: relative;}#sk-container-id-1 div.sk-item::before, #sk-container-id-1 div.sk-parallel-item::before {content: \"\";position: absolute;border-left: 1px solid gray;box-sizing: border-box;top: 0;bottom: 0;left: 50%;z-index: -1;}#sk-container-id-1 div.sk-parallel-item {display: flex;flex-direction: column;z-index: 1;position: relative;background-color: white;}#sk-container-id-1 div.sk-parallel-item:first-child::after {align-self: flex-end;width: 50%;}#sk-container-id-1 div.sk-parallel-item:last-child::after {align-self: flex-start;width: 50%;}#sk-container-id-1 div.sk-parallel-item:only-child::after {width: 0;}#sk-container-id-1 div.sk-dashed-wrapped {border: 1px dashed gray;margin: 0 0.4em 0.5em 0.4em;box-sizing: border-box;padding-bottom: 0.4em;background-color: white;}#sk-container-id-1 div.sk-label label {font-family: monospace;font-weight: bold;display: inline-block;line-height: 1.2em;}#sk-container-id-1 div.sk-label-container {text-align: center;}#sk-container-id-1 div.sk-container {/* jupyter's `normalize.less` sets `[hidden] { display: none; }` but bootstrap.min.css set `[hidden] { display: none !important; }` so we also need the `!important` here to be able to override the default hidden behavior on the sphinx rendered scikit-learn.org. See: https://github.com/scikit-learn/scikit-learn/issues/21755 */display: inline-block !important;position: relative;}#sk-container-id-1 div.sk-text-repr-fallback {display: none;}</style><div id=\"sk-container-id-1\" class=\"sk-top-container\"><div class=\"sk-text-repr-fallback\"><pre>LinearRegression()</pre><b>In a Jupyter environment, please rerun this cell to show the HTML representation or trust the notebook. <br />On GitHub, the HTML representation is unable to render, please try loading this page with nbviewer.org.</b></div><div class=\"sk-container\" hidden><div class=\"sk-item\"><div class=\"sk-estimator sk-toggleable\"><input class=\"sk-toggleable__control sk-hidden--visually\" id=\"sk-estimator-id-1\" type=\"checkbox\" checked><label for=\"sk-estimator-id-1\" class=\"sk-toggleable__label sk-toggleable__label-arrow\">LinearRegression</label><div class=\"sk-toggleable__content\"><pre>LinearRegression()</pre></div></div></div></div></div>"
      ],
      "text/plain": [
       "LinearRegression()"
      ]
     },
     "execution_count": 6,
     "metadata": {},
     "output_type": "execute_result"
    }
   ],
   "source": [
    "#step 4: Train the model using the dataset\n",
    "model.fit(X,Y) #the model learns the best fit line by minimizing the error"
   ]
  },
  {
   "cell_type": "code",
   "execution_count": 12,
   "id": "3be8cf52",
   "metadata": {},
   "outputs": [
    {
     "name": "stdout",
     "output_type": "stream",
     "text": [
      "co-efficient: 4.965498141580591\n",
      "Intercept: 27.430065779800536\n"
     ]
    }
   ],
   "source": [
    "#step5:co-efficient and intercept\n",
    "m=model.coef_[0]\n",
    "print(\"co-efficient:\",m)\n",
    "c=model.intercept_\n",
    "print(\"Intercept:\",c)"
   ]
  },
  {
   "cell_type": "code",
   "execution_count": 13,
   "id": "a978a180",
   "metadata": {},
   "outputs": [
    {
     "name": "stdout",
     "output_type": "stream",
     "text": [
      "Equation of the line: Y - 4.97X + 27.43\n"
     ]
    }
   ],
   "source": [
    "#step 6:display the equation of ine\n",
    "print(f\"Equation of the line: Y - {m:.2f}X + {c:.2f}\")"
   ]
  },
  {
   "cell_type": "code",
   "execution_count": 17,
   "id": "17ffea38",
   "metadata": {},
   "outputs": [],
   "source": [
    "#step 7:Predict values using the model\n",
    "Y_pred=model.predict(X) #predict salaries for the given experience values"
   ]
  },
  {
   "cell_type": "code",
   "execution_count": 18,
   "id": "5b6e5338",
   "metadata": {},
   "outputs": [
    {
     "name": "stdout",
     "output_type": "stream",
     "text": [
      "Mean Squared Error (MSE): 11.75\n"
     ]
    }
   ],
   "source": [
    "#1.model evaluation metric -Mean squared error\n",
    "mse=mean_squared_error(Y,Y_pred)\n",
    "print(f\"Mean Squared Error (MSE): {mse:.2f}\")"
   ]
  },
  {
   "cell_type": "code",
   "execution_count": 19,
   "id": "232a9837",
   "metadata": {},
   "outputs": [
    {
     "name": "stdout",
     "output_type": "stream",
     "text": [
      "Mean Absolute Error (MAE): 2.87\n"
     ]
    }
   ],
   "source": [
    "#2.Mean absolute error (MAE)\n",
    "mae=mean_absolute_error(Y,Y_pred)\n",
    "print(f\"Mean Absolute Error (MAE): {mae:.2f}\")"
   ]
  },
  {
   "cell_type": "code",
   "execution_count": 20,
   "id": "ccec1460",
   "metadata": {},
   "outputs": [
    {
     "name": "stdout",
     "output_type": "stream",
     "text": [
      "Root Mean Squared error (RMSE):3.43\n"
     ]
    }
   ],
   "source": [
    "#3.Root Mean Squared Error (RMSE)\n",
    "rmse=np.sqrt(mse)\n",
    "print(f\"Root Mean Squared error (RMSE):{rmse:.2f}\")"
   ]
  },
  {
   "cell_type": "code",
   "execution_count": 21,
   "id": "73b00638",
   "metadata": {},
   "outputs": [
    {
     "name": "stdout",
     "output_type": "stream",
     "text": [
      "R-squared : 0.95\n"
     ]
    }
   ],
   "source": [
    "#4.R-squared \n",
    "r2=r2_score(Y,Y_pred)\n",
    "print(f\"R-squared : {r2:.2f}\")"
   ]
  },
  {
   "cell_type": "code",
   "execution_count": 23,
   "id": "ba70b089",
   "metadata": {},
   "outputs": [
    {
     "name": "stdout",
     "output_type": "stream",
     "text": [
      "Adjusted R-squared: 0.94\n"
     ]
    }
   ],
   "source": [
    "#5.Adjusted R-squared\n",
    "n=len(Y)\n",
    "p=1\n",
    "adj_r2=1-((1-r2) * (n-1)/(n-p-1))\n",
    "print(f\"Adjusted R-squared: {adj_r2:.2f}\")"
   ]
  },
  {
   "cell_type": "code",
   "execution_count": 27,
   "id": "74c3c4c9",
   "metadata": {},
   "outputs": [
    {
     "data": {
      "image/png": "[encoded data removed]",
      "text/plain": [
       "<Figure size 640x480 with 1 Axes>"
      ]
     },
     "metadata": {},
     "output_type": "display_data"
    }
   ],
   "source": [
    "#step 8:plot the actual data points\n",
    "plt.scatter(X,Y,color='blue',label='Actual Data') #scatter plot of actual values\n",
    "#step 9: plot the regression line\n",
    "plt.plot(X,Y_pred,color='red',label='Best Fit Line') #Regression line\n",
    "#step 10: add labels and legend\n",
    "plt.xlabel(\"Experience (yours)\")\n",
    "plt.ylabel(\"salary in $1000s\")\n",
    "plt.title('simple linear regression-experience vs salary')\n",
    "plt.legend()\n",
    "#step 11:display the graph\n",
    "plt.show()"
   ]
  },
  {
   "cell_type": "code",
   "execution_count": 29,
   "id": "04592ce7",
   "metadata": {},
   "outputs": [
    {
     "name": "stdout",
     "output_type": "stream",
     "text": [
      "\n",
      " Enter years of experience to predict salary (or -1 to exit):5\n",
      "Predicted salary for 5.0 years of experience: $52.26K\n",
      "\n",
      " Enter years of experience to predict salary (or -1 to exit):3\n",
      "Predicted salary for 3.0 years of experience: $42.33K\n",
      "\n",
      " Enter years of experience to predict salary (or -1 to exit):10\n",
      "Predicted salary for 10.0 years of experience: $77.09K\n",
      "\n",
      " Enter years of experience to predict salary (or -1 to exit):7\n",
      "Predicted salary for 7.0 years of experience: $62.19K\n",
      "\n",
      " Enter years of experience to predict salary (or -1 to exit):-1\n"
     ]
    }
   ],
   "source": [
    "#user can input experience,and the model will predict salary\n",
    "while True:\n",
    "    try:\n",
    "        exp=float(input(\"\\n Enter years of experience to predict salary (or -1 to exit):\"))\n",
    "        if exp== -1:\n",
    "            break #exit the loop\n",
    "        predicted_salary=model.predict(np.array([[exp]]))[0]\n",
    "        print(f\"Predicted salary for {exp} years of experience: ${predicted_salary:.2f}K\")\n",
    "    except ValueError:\n",
    "            print(\"Please enter a valid number!\")"
   ]
  },
  {
   "cell_type": "markdown",
   "id": "1dc61f82",
   "metadata": {},
   "source": [
    "1.Import the libraries \n",
    "\n",
    "2.Define the dataset\n",
    "\n",
    "3.create a linear regression\n",
    "\n",
    "4.training the data\n",
    "\n",
    "5.find the coeff and intercept\n",
    "\n",
    "6.display line equation \n",
    "\n",
    "7.predicting the values\n",
    "\n",
    "       -mean squared error mse\n",
    "  \n",
    "       -mean absolute error mae\n",
    "  \n",
    "       -root mean square rsme\n",
    "  \n",
    "       -r square r2\n",
    "  \n",
    " 8.plot actual data points\n",
    " \n",
    " 9.future prediction"
   ]
  },
  {
   "cell_type": "code",
   "execution_count": null,
   "id": "0fc36016",
   "metadata": {},
   "outputs": [],
   "source": []
  }
 ],
 "metadata": {
  "kernelspec": {
   "display_name": "Python 3 (ipykernel)",
   "language": "python",
   "name": "python3"
  },
  "language_info": {
   "codemirror_mode": {
    "name": "ipython",
    "version": 3
   },
   "file_extension": ".py",
   "mimetype": "text/x-python",
   "name": "python",
   "nbconvert_exporter": "python",
   "pygments_lexer": "ipython3",
   "version": "3.11.5"
  }
 },
 "nbformat": 4,
 "nbformat_minor": 5
}
